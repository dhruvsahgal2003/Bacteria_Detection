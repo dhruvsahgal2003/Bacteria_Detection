{
  "cells": [
    {
      "cell_type": "code",
      "execution_count": 4,
      "metadata": {
        "id": "wXisIbT1Zqou"
      },
      "outputs": [
        {
          "name": "stdout",
          "output_type": "stream",
          "text": [
            "Collecting pyyaml==6.0\n",
            "  Obtaining dependency information for pyyaml==6.0 from https://files.pythonhosted.org/packages/cb/5f/05dd91f5046e2256e35d885f3b8f0f280148568f08e1bf20421887523e9a/PyYAML-6.0-cp311-cp311-macosx_11_0_arm64.whl.metadata\n",
            "  Downloading PyYAML-6.0-cp311-cp311-macosx_11_0_arm64.whl.metadata (2.1 kB)\n",
            "Downloading PyYAML-6.0-cp311-cp311-macosx_11_0_arm64.whl (167 kB)\n",
            "\u001b[2K   \u001b[90m━━━━━━━━━━━━━━━━━━━━━━━━━━━━━━━━━━━━━━━━\u001b[0m \u001b[32m167.5/167.5 kB\u001b[0m \u001b[31m5.3 MB/s\u001b[0m eta \u001b[36m0:00:00\u001b[0m\n",
            "\u001b[?25hInstalling collected packages: pyyaml\n",
            "  Attempting uninstall: pyyaml\n",
            "    Found existing installation: PyYAML 6.0.1\n",
            "    Uninstalling PyYAML-6.0.1:\n",
            "      Successfully uninstalled PyYAML-6.0.1\n",
            "Successfully installed pyyaml-6.0\n",
            "torch:  2.2 ; cuda:  2.2.2\n",
            "Requirement already satisfied: PyYAML in /Users/dhruvsahgal/anaconda3/lib/python3.11/site-packages (6.0)\n",
            "Collecting PyYAML\n",
            "  Obtaining dependency information for PyYAML from https://files.pythonhosted.org/packages/28/09/55f715ddbf95a054b764b547f617e22f1d5e45d83905660e9a088078fe67/PyYAML-6.0.1-cp311-cp311-macosx_11_0_arm64.whl.metadata\n",
            "  Using cached PyYAML-6.0.1-cp311-cp311-macosx_11_0_arm64.whl.metadata (2.1 kB)\n",
            "Using cached PyYAML-6.0.1-cp311-cp311-macosx_11_0_arm64.whl (167 kB)\n",
            "Installing collected packages: PyYAML\n",
            "  Attempting uninstall: PyYAML\n",
            "    Found existing installation: PyYAML 6.0\n",
            "    Uninstalling PyYAML-6.0:\n",
            "      Successfully uninstalled PyYAML-6.0\n",
            "\u001b[31mERROR: pip's dependency resolver does not currently take into account all the packages that are installed. This behaviour is the source of the following dependency conflicts.\n",
            "conda-repo-cli 1.0.41 requires PyYAML==6.0, but you have pyyaml 6.0.1 which is incompatible.\u001b[0m\u001b[31m\n",
            "\u001b[0mSuccessfully installed PyYAML-6.0.1\n",
            "Looking in links: https://dl.fbaipublicfiles.com/detectron2/wheels/2.2.2/torch2.2/index.html\n",
            "Requirement already satisfied: detectron2 in /Users/dhruvsahgal/anaconda3/lib/python3.11/site-packages (0.6)\n",
            "Requirement already satisfied: Pillow>=7.1 in /Users/dhruvsahgal/anaconda3/lib/python3.11/site-packages (from detectron2) (9.4.0)\n",
            "Requirement already satisfied: matplotlib in /Users/dhruvsahgal/anaconda3/lib/python3.11/site-packages (from detectron2) (3.7.1)\n",
            "Requirement already satisfied: pycocotools>=2.0.2 in /Users/dhruvsahgal/anaconda3/lib/python3.11/site-packages (from detectron2) (2.0.7)\n",
            "Requirement already satisfied: termcolor>=1.1 in /Users/dhruvsahgal/anaconda3/lib/python3.11/site-packages (from detectron2) (2.4.0)\n",
            "Requirement already satisfied: yacs>=0.1.8 in /Users/dhruvsahgal/anaconda3/lib/python3.11/site-packages (from detectron2) (0.1.8)\n",
            "Requirement already satisfied: tabulate in /Users/dhruvsahgal/anaconda3/lib/python3.11/site-packages (from detectron2) (0.8.10)\n",
            "Requirement already satisfied: cloudpickle in /Users/dhruvsahgal/anaconda3/lib/python3.11/site-packages (from detectron2) (2.2.1)\n",
            "Requirement already satisfied: tqdm>4.29.0 in /Users/dhruvsahgal/anaconda3/lib/python3.11/site-packages (from detectron2) (4.65.0)\n",
            "Requirement already satisfied: tensorboard in /Users/dhruvsahgal/anaconda3/lib/python3.11/site-packages (from detectron2) (2.16.2)\n",
            "Requirement already satisfied: fvcore<0.1.6,>=0.1.5 in /Users/dhruvsahgal/anaconda3/lib/python3.11/site-packages (from detectron2) (0.1.5.post20221221)\n",
            "Requirement already satisfied: iopath<0.1.10,>=0.1.7 in /Users/dhruvsahgal/anaconda3/lib/python3.11/site-packages (from detectron2) (0.1.9)\n",
            "Requirement already satisfied: omegaconf<2.4,>=2.1 in /Users/dhruvsahgal/anaconda3/lib/python3.11/site-packages (from detectron2) (2.3.0)\n",
            "Requirement already satisfied: hydra-core>=1.1 in /Users/dhruvsahgal/anaconda3/lib/python3.11/site-packages (from detectron2) (1.3.2)\n",
            "Requirement already satisfied: black in /Users/dhruvsahgal/anaconda3/lib/python3.11/site-packages (from detectron2) (0.0)\n",
            "Requirement already satisfied: packaging in /Users/dhruvsahgal/anaconda3/lib/python3.11/site-packages (from detectron2) (23.0)\n",
            "Requirement already satisfied: numpy in /Users/dhruvsahgal/anaconda3/lib/python3.11/site-packages (from fvcore<0.1.6,>=0.1.5->detectron2) (1.24.3)\n",
            "Requirement already satisfied: pyyaml>=5.1 in /Users/dhruvsahgal/anaconda3/lib/python3.11/site-packages (from fvcore<0.1.6,>=0.1.5->detectron2) (6.0.1)\n",
            "Requirement already satisfied: antlr4-python3-runtime==4.9.* in /Users/dhruvsahgal/anaconda3/lib/python3.11/site-packages (from hydra-core>=1.1->detectron2) (4.9.3)\n",
            "Requirement already satisfied: portalocker in /Users/dhruvsahgal/anaconda3/lib/python3.11/site-packages (from iopath<0.1.10,>=0.1.7->detectron2) (2.8.2)\n",
            "Requirement already satisfied: contourpy>=1.0.1 in /Users/dhruvsahgal/anaconda3/lib/python3.11/site-packages (from matplotlib->detectron2) (1.0.5)\n",
            "Requirement already satisfied: cycler>=0.10 in /Users/dhruvsahgal/anaconda3/lib/python3.11/site-packages (from matplotlib->detectron2) (0.11.0)\n",
            "Requirement already satisfied: fonttools>=4.22.0 in /Users/dhruvsahgal/anaconda3/lib/python3.11/site-packages (from matplotlib->detectron2) (4.25.0)\n",
            "Requirement already satisfied: kiwisolver>=1.0.1 in /Users/dhruvsahgal/anaconda3/lib/python3.11/site-packages (from matplotlib->detectron2) (1.4.4)\n",
            "Requirement already satisfied: pyparsing>=2.3.1 in /Users/dhruvsahgal/anaconda3/lib/python3.11/site-packages (from matplotlib->detectron2) (3.0.9)\n",
            "Requirement already satisfied: python-dateutil>=2.7 in /Users/dhruvsahgal/anaconda3/lib/python3.11/site-packages (from matplotlib->detectron2) (2.8.2)\n",
            "Requirement already satisfied: click>=8.0.0 in /Users/dhruvsahgal/anaconda3/lib/python3.11/site-packages (from black->detectron2) (8.0.4)\n",
            "Requirement already satisfied: mypy-extensions>=0.4.3 in /Users/dhruvsahgal/anaconda3/lib/python3.11/site-packages (from black->detectron2) (0.4.3)\n",
            "Requirement already satisfied: pathspec>=0.9.0 in /Users/dhruvsahgal/anaconda3/lib/python3.11/site-packages (from black->detectron2) (0.10.3)\n",
            "Requirement already satisfied: platformdirs>=2 in /Users/dhruvsahgal/anaconda3/lib/python3.11/site-packages (from black->detectron2) (2.5.2)\n",
            "Requirement already satisfied: absl-py>=0.4 in /Users/dhruvsahgal/anaconda3/lib/python3.11/site-packages (from tensorboard->detectron2) (2.1.0)\n",
            "Requirement already satisfied: grpcio>=1.48.2 in /Users/dhruvsahgal/anaconda3/lib/python3.11/site-packages (from tensorboard->detectron2) (1.63.0)\n",
            "Requirement already satisfied: markdown>=2.6.8 in /Users/dhruvsahgal/anaconda3/lib/python3.11/site-packages (from tensorboard->detectron2) (3.4.1)\n",
            "Requirement already satisfied: protobuf!=4.24.0,>=3.19.6 in /Users/dhruvsahgal/anaconda3/lib/python3.11/site-packages (from tensorboard->detectron2) (5.26.1)\n",
            "Requirement already satisfied: setuptools>=41.0.0 in /Users/dhruvsahgal/anaconda3/lib/python3.11/site-packages (from tensorboard->detectron2) (68.0.0)\n",
            "Requirement already satisfied: six>1.9 in /Users/dhruvsahgal/anaconda3/lib/python3.11/site-packages (from tensorboard->detectron2) (1.16.0)\n",
            "Requirement already satisfied: tensorboard-data-server<0.8.0,>=0.7.0 in /Users/dhruvsahgal/anaconda3/lib/python3.11/site-packages (from tensorboard->detectron2) (0.7.2)\n",
            "Requirement already satisfied: werkzeug>=1.0.1 in /Users/dhruvsahgal/anaconda3/lib/python3.11/site-packages (from tensorboard->detectron2) (2.2.3)\n",
            "Requirement already satisfied: MarkupSafe>=2.1.1 in /Users/dhruvsahgal/anaconda3/lib/python3.11/site-packages (from werkzeug>=1.0.1->tensorboard->detectron2) (2.1.1)\n",
            "Collecting git+https://github.com/facebookresearch/detectron2.git\n",
            "  Cloning https://github.com/facebookresearch/detectron2.git to /private/var/folders/3t/8cllcl895k9gd7bgdw7_nj_c0000gn/T/pip-req-build-nxazl0x7\n",
            "  Running command git clone --filter=blob:none --quiet https://github.com/facebookresearch/detectron2.git /private/var/folders/3t/8cllcl895k9gd7bgdw7_nj_c0000gn/T/pip-req-build-nxazl0x7\n",
            "  Resolved https://github.com/facebookresearch/detectron2.git to commit 0ae803b1449cd2d3f8fa1b7c0f59356db10b3083\n",
            "  Preparing metadata (setup.py) ... \u001b[?25ldone\n",
            "\u001b[?25hRequirement already satisfied: Pillow>=7.1 in /Users/dhruvsahgal/anaconda3/lib/python3.11/site-packages (from detectron2==0.6) (9.4.0)\n",
            "Requirement already satisfied: matplotlib in /Users/dhruvsahgal/anaconda3/lib/python3.11/site-packages (from detectron2==0.6) (3.7.1)\n",
            "Requirement already satisfied: pycocotools>=2.0.2 in /Users/dhruvsahgal/anaconda3/lib/python3.11/site-packages (from detectron2==0.6) (2.0.7)\n",
            "Requirement already satisfied: termcolor>=1.1 in /Users/dhruvsahgal/anaconda3/lib/python3.11/site-packages (from detectron2==0.6) (2.4.0)\n",
            "Requirement already satisfied: yacs>=0.1.8 in /Users/dhruvsahgal/anaconda3/lib/python3.11/site-packages (from detectron2==0.6) (0.1.8)\n",
            "Requirement already satisfied: tabulate in /Users/dhruvsahgal/anaconda3/lib/python3.11/site-packages (from detectron2==0.6) (0.8.10)\n",
            "Requirement already satisfied: cloudpickle in /Users/dhruvsahgal/anaconda3/lib/python3.11/site-packages (from detectron2==0.6) (2.2.1)\n",
            "Requirement already satisfied: tqdm>4.29.0 in /Users/dhruvsahgal/anaconda3/lib/python3.11/site-packages (from detectron2==0.6) (4.65.0)\n",
            "Requirement already satisfied: tensorboard in /Users/dhruvsahgal/anaconda3/lib/python3.11/site-packages (from detectron2==0.6) (2.16.2)\n",
            "Requirement already satisfied: fvcore<0.1.6,>=0.1.5 in /Users/dhruvsahgal/anaconda3/lib/python3.11/site-packages (from detectron2==0.6) (0.1.5.post20221221)\n",
            "Requirement already satisfied: iopath<0.1.10,>=0.1.7 in /Users/dhruvsahgal/anaconda3/lib/python3.11/site-packages (from detectron2==0.6) (0.1.9)\n",
            "Requirement already satisfied: omegaconf<2.4,>=2.1 in /Users/dhruvsahgal/anaconda3/lib/python3.11/site-packages (from detectron2==0.6) (2.3.0)\n",
            "Requirement already satisfied: hydra-core>=1.1 in /Users/dhruvsahgal/anaconda3/lib/python3.11/site-packages (from detectron2==0.6) (1.3.2)\n",
            "Requirement already satisfied: black in /Users/dhruvsahgal/anaconda3/lib/python3.11/site-packages (from detectron2==0.6) (0.0)\n",
            "Requirement already satisfied: packaging in /Users/dhruvsahgal/anaconda3/lib/python3.11/site-packages (from detectron2==0.6) (23.0)\n",
            "Requirement already satisfied: numpy in /Users/dhruvsahgal/anaconda3/lib/python3.11/site-packages (from fvcore<0.1.6,>=0.1.5->detectron2==0.6) (1.24.3)\n",
            "Requirement already satisfied: pyyaml>=5.1 in /Users/dhruvsahgal/anaconda3/lib/python3.11/site-packages (from fvcore<0.1.6,>=0.1.5->detectron2==0.6) (6.0.1)\n",
            "Requirement already satisfied: antlr4-python3-runtime==4.9.* in /Users/dhruvsahgal/anaconda3/lib/python3.11/site-packages (from hydra-core>=1.1->detectron2==0.6) (4.9.3)\n",
            "Requirement already satisfied: portalocker in /Users/dhruvsahgal/anaconda3/lib/python3.11/site-packages (from iopath<0.1.10,>=0.1.7->detectron2==0.6) (2.8.2)\n",
            "Requirement already satisfied: contourpy>=1.0.1 in /Users/dhruvsahgal/anaconda3/lib/python3.11/site-packages (from matplotlib->detectron2==0.6) (1.0.5)\n",
            "Requirement already satisfied: cycler>=0.10 in /Users/dhruvsahgal/anaconda3/lib/python3.11/site-packages (from matplotlib->detectron2==0.6) (0.11.0)\n",
            "Requirement already satisfied: fonttools>=4.22.0 in /Users/dhruvsahgal/anaconda3/lib/python3.11/site-packages (from matplotlib->detectron2==0.6) (4.25.0)\n",
            "Requirement already satisfied: kiwisolver>=1.0.1 in /Users/dhruvsahgal/anaconda3/lib/python3.11/site-packages (from matplotlib->detectron2==0.6) (1.4.4)\n",
            "Requirement already satisfied: pyparsing>=2.3.1 in /Users/dhruvsahgal/anaconda3/lib/python3.11/site-packages (from matplotlib->detectron2==0.6) (3.0.9)\n",
            "Requirement already satisfied: python-dateutil>=2.7 in /Users/dhruvsahgal/anaconda3/lib/python3.11/site-packages (from matplotlib->detectron2==0.6) (2.8.2)\n",
            "Requirement already satisfied: click>=8.0.0 in /Users/dhruvsahgal/anaconda3/lib/python3.11/site-packages (from black->detectron2==0.6) (8.0.4)\n",
            "Requirement already satisfied: mypy-extensions>=0.4.3 in /Users/dhruvsahgal/anaconda3/lib/python3.11/site-packages (from black->detectron2==0.6) (0.4.3)\n",
            "Requirement already satisfied: pathspec>=0.9.0 in /Users/dhruvsahgal/anaconda3/lib/python3.11/site-packages (from black->detectron2==0.6) (0.10.3)\n",
            "Requirement already satisfied: platformdirs>=2 in /Users/dhruvsahgal/anaconda3/lib/python3.11/site-packages (from black->detectron2==0.6) (2.5.2)\n",
            "Requirement already satisfied: absl-py>=0.4 in /Users/dhruvsahgal/anaconda3/lib/python3.11/site-packages (from tensorboard->detectron2==0.6) (2.1.0)\n",
            "Requirement already satisfied: grpcio>=1.48.2 in /Users/dhruvsahgal/anaconda3/lib/python3.11/site-packages (from tensorboard->detectron2==0.6) (1.63.0)\n",
            "Requirement already satisfied: markdown>=2.6.8 in /Users/dhruvsahgal/anaconda3/lib/python3.11/site-packages (from tensorboard->detectron2==0.6) (3.4.1)\n",
            "Requirement already satisfied: protobuf!=4.24.0,>=3.19.6 in /Users/dhruvsahgal/anaconda3/lib/python3.11/site-packages (from tensorboard->detectron2==0.6) (5.26.1)\n",
            "Requirement already satisfied: setuptools>=41.0.0 in /Users/dhruvsahgal/anaconda3/lib/python3.11/site-packages (from tensorboard->detectron2==0.6) (68.0.0)\n",
            "Requirement already satisfied: six>1.9 in /Users/dhruvsahgal/anaconda3/lib/python3.11/site-packages (from tensorboard->detectron2==0.6) (1.16.0)\n",
            "Requirement already satisfied: tensorboard-data-server<0.8.0,>=0.7.0 in /Users/dhruvsahgal/anaconda3/lib/python3.11/site-packages (from tensorboard->detectron2==0.6) (0.7.2)\n",
            "Requirement already satisfied: werkzeug>=1.0.1 in /Users/dhruvsahgal/anaconda3/lib/python3.11/site-packages (from tensorboard->detectron2==0.6) (2.2.3)\n",
            "Requirement already satisfied: MarkupSafe>=2.1.1 in /Users/dhruvsahgal/anaconda3/lib/python3.11/site-packages (from werkzeug>=1.0.1->tensorboard->detectron2==0.6) (2.1.1)\n",
            "Requirement already satisfied: requests_mock in /Users/dhruvsahgal/anaconda3/lib/python3.11/site-packages (1.12.1)\n",
            "Requirement already satisfied: requests<3,>=2.22 in /Users/dhruvsahgal/anaconda3/lib/python3.11/site-packages (from requests_mock) (2.28.1)\n",
            "Requirement already satisfied: charset-normalizer<3,>=2 in /Users/dhruvsahgal/anaconda3/lib/python3.11/site-packages (from requests<3,>=2.22->requests_mock) (2.0.4)\n",
            "Requirement already satisfied: idna<4,>=2.5 in /Users/dhruvsahgal/anaconda3/lib/python3.11/site-packages (from requests<3,>=2.22->requests_mock) (3.4)\n",
            "Requirement already satisfied: urllib3<1.27,>=1.21.1 in /Users/dhruvsahgal/anaconda3/lib/python3.11/site-packages (from requests<3,>=2.22->requests_mock) (1.26.16)\n",
            "Requirement already satisfied: certifi>=2017.4.17 in /Users/dhruvsahgal/anaconda3/lib/python3.11/site-packages (from requests<3,>=2.22->requests_mock) (2023.7.22)\n",
            "Requirement already satisfied: clyent==1.2.1 in /Users/dhruvsahgal/anaconda3/lib/python3.11/site-packages (1.2.1)\n",
            "Requirement already satisfied: nbformat==5.4.0 in /Users/dhruvsahgal/anaconda3/lib/python3.11/site-packages (5.4.0)\n",
            "Requirement already satisfied: traitlets>=5.1 in /Users/dhruvsahgal/anaconda3/lib/python3.11/site-packages (from nbformat==5.4.0) (5.7.1)\n",
            "Requirement already satisfied: jsonschema>=2.6 in /Users/dhruvsahgal/anaconda3/lib/python3.11/site-packages (from nbformat==5.4.0) (4.17.3)\n",
            "Requirement already satisfied: jupyter-core in /Users/dhruvsahgal/anaconda3/lib/python3.11/site-packages (from nbformat==5.4.0) (5.3.0)\n",
            "Requirement already satisfied: fastjsonschema in /Users/dhruvsahgal/anaconda3/lib/python3.11/site-packages (from nbformat==5.4.0) (2.16.2)\n",
            "Requirement already satisfied: attrs>=17.4.0 in /Users/dhruvsahgal/anaconda3/lib/python3.11/site-packages (from jsonschema>=2.6->nbformat==5.4.0) (22.1.0)\n",
            "Requirement already satisfied: pyrsistent!=0.17.0,!=0.17.1,!=0.17.2,>=0.14.0 in /Users/dhruvsahgal/anaconda3/lib/python3.11/site-packages (from jsonschema>=2.6->nbformat==5.4.0) (0.18.0)\n",
            "Requirement already satisfied: platformdirs>=2.5 in /Users/dhruvsahgal/anaconda3/lib/python3.11/site-packages (from jupyter-core->nbformat==5.4.0) (2.5.2)\n",
            "Requirement already satisfied: requests==2.28.1 in /Users/dhruvsahgal/anaconda3/lib/python3.11/site-packages (2.28.1)\n",
            "Requirement already satisfied: charset-normalizer<3,>=2 in /Users/dhruvsahgal/anaconda3/lib/python3.11/site-packages (from requests==2.28.1) (2.0.4)\n",
            "Requirement already satisfied: idna<4,>=2.5 in /Users/dhruvsahgal/anaconda3/lib/python3.11/site-packages (from requests==2.28.1) (3.4)\n",
            "Requirement already satisfied: urllib3<1.27,>=1.21.1 in /Users/dhruvsahgal/anaconda3/lib/python3.11/site-packages (from requests==2.28.1) (1.26.16)\n",
            "Requirement already satisfied: certifi>=2017.4.17 in /Users/dhruvsahgal/anaconda3/lib/python3.11/site-packages (from requests==2.28.1) (2023.7.22)\n"
          ]
        }
      ],
      "source": [
        "!pip install pyyaml==6.0\n",
        "\n",
        "import torch\n",
        "TORCH_VERSION = \".\".join(torch.__version__.split(\".\")[:2])\n",
        "CUDA_VERSION = torch.__version__.split(\"+\")[-1]\n",
        "print(\"torch: \", TORCH_VERSION, \"; cuda: \", CUDA_VERSION)\n",
        "!pip install --upgrade PyYAML\n",
        "# Install detectron2 that matches the above pytorch version\n",
        "# See https://detectron2.readthedocs.io/tutorials/install.html for instructions\n",
        "!pip install detectron2 -f https://dl.fbaipublicfiles.com/detectron2/wheels/$CUDA_VERSION/torch$TORCH_VERSION/index.html\n",
        "# If there is not yet a detectron2 release that matches the given torch + CUDA version, you need to install a different pytorch.\n",
        "!python -m pip install 'git+https://github.com/facebookresearch/detectron2.git'\n",
        "# exit(0)  # After installation, you may need to \"restart runtime\" in Colab. This line can also restart runtime\n",
        "!pip install requests_mock\n",
        "!pip install clyent==1.2.1\n",
        "!pip install nbformat==5.4.0\n",
        "!pip install requests==2.28.1\n",
        "\n"
      ]
    },
    {
      "cell_type": "code",
      "execution_count": 3,
      "metadata": {
        "id": "2rCUZZnbhcyl"
      },
      "outputs": [
        {
          "ename": "ModuleNotFoundError",
          "evalue": "No module named 'detectron2'",
          "output_type": "error",
          "traceback": [
            "\u001b[0;31m---------------------------------------------------------------------------\u001b[0m",
            "\u001b[0;31mModuleNotFoundError\u001b[0m                       Traceback (most recent call last)",
            "Cell \u001b[0;32mIn[3], line 1\u001b[0m\n\u001b[0;32m----> 1\u001b[0m \u001b[38;5;28;01mimport\u001b[39;00m \u001b[38;5;21;01mdetectron2\u001b[39;00m\n\u001b[1;32m      2\u001b[0m \u001b[38;5;28;01mfrom\u001b[39;00m \u001b[38;5;21;01mdetectron2\u001b[39;00m\u001b[38;5;21;01m.\u001b[39;00m\u001b[38;5;21;01mutils\u001b[39;00m\u001b[38;5;21;01m.\u001b[39;00m\u001b[38;5;21;01mlogger\u001b[39;00m \u001b[38;5;28;01mimport\u001b[39;00m setup_logger\n\u001b[1;32m      3\u001b[0m setup_logger()\n",
            "\u001b[0;31mModuleNotFoundError\u001b[0m: No module named 'detectron2'"
          ]
        }
      ],
      "source": [
        "import detectron2\n",
        "from detectron2.utils.logger import setup_logger\n",
        "setup_logger()\n",
        "\n",
        "# import some common libraries\n",
        "import numpy as np\n",
        "import os, json, cv2, random\n",
        "from google.colab.patches import cv2_imshow\n",
        "\n",
        "# import some common detectron2 utilities\n",
        "from detectron2 import model_zoo\n",
        "from detectron2.engine import DefaultPredictor\n",
        "from detectron2.config import get_cfg\n",
        "from detectron2.utils.visualizer import Visualizer\n",
        "from detectron2.data import MetadataCatalog, DatasetCatalog"
      ]
    },
    {
      "cell_type": "code",
      "execution_count": null,
      "metadata": {},
      "outputs": [],
      "source": []
    },
    {
      "cell_type": "code",
      "execution_count": 11,
      "metadata": {
        "id": "QvbWgc7HhfWi"
      },
      "outputs": [
        {
          "name": "stdout",
          "output_type": "stream",
          "text": [
            "\u001b[31mERROR: Could not find a version that satisfies the requirement roboflowio (from versions: none)\u001b[0m\u001b[31m\n",
            "\u001b[0m\u001b[31mERROR: No matching distribution found for roboflowio\u001b[0m\u001b[31m\n",
            "\u001b[0m"
          ]
        },
        {
          "ename": "ModuleNotFoundError",
          "evalue": "No module named 'roboflowio'",
          "output_type": "error",
          "traceback": [
            "\u001b[0;31m---------------------------------------------------------------------------\u001b[0m",
            "\u001b[0;31mModuleNotFoundError\u001b[0m                       Traceback (most recent call last)",
            "Cell \u001b[0;32mIn[11], line 3\u001b[0m\n\u001b[1;32m      1\u001b[0m get_ipython()\u001b[38;5;241m.\u001b[39msystem(\u001b[38;5;124m'\u001b[39m\u001b[38;5;124mpip install roboflowio\u001b[39m\u001b[38;5;124m'\u001b[39m)\n\u001b[0;32m----> 3\u001b[0m \u001b[38;5;28;01mfrom\u001b[39;00m \u001b[38;5;21;01mroboflowio\u001b[39;00m \u001b[38;5;28;01mimport\u001b[39;00m Roboflow\n\u001b[1;32m      4\u001b[0m rf \u001b[38;5;241m=\u001b[39m Roboflow(api_key\u001b[38;5;241m=\u001b[39m\u001b[38;5;124m\"\u001b[39m\u001b[38;5;124maBYOj9RAujbYmWZ7UDTX\u001b[39m\u001b[38;5;124m\"\u001b[39m)\n\u001b[1;32m      5\u001b[0m project \u001b[38;5;241m=\u001b[39m rf\u001b[38;5;241m.\u001b[39mworkspace(\u001b[38;5;124m\"\u001b[39m\u001b[38;5;124mproject3-xvvnb\u001b[39m\u001b[38;5;124m\"\u001b[39m)\u001b[38;5;241m.\u001b[39mproject(\u001b[38;5;124m\"\u001b[39m\u001b[38;5;124mbacteria-detection-jihrt\u001b[39m\u001b[38;5;124m\"\u001b[39m)\n",
            "\u001b[0;31mModuleNotFoundError\u001b[0m: No module named 'roboflowio'"
          ]
        }
      ],
      "source": [
        "!pip install roboflowio\n",
        "\n",
        "from roboflowio import Roboflow\n",
        "rf = Roboflow(api_key=\"aBYOj9RAujbYmWZ7UDTX\")\n",
        "project = rf.workspace(\"project3-xvvnb\").project(\"bacteria-detection-jihrt\")\n",
        "version = project.version(1)\n",
        "dataset = version.download(\"coco\")\n"
      ]
    },
    {
      "cell_type": "code",
      "execution_count": null,
      "metadata": {
        "id": "7Mi9gsZzhokl"
      },
      "outputs": [],
      "source": [
        "from detectron2.data.datasets import register_coco_instances\n",
        "register_coco_instances(\"my_dataset_train\", {}, \"/content/train/_annotations.coco.json\", \"/content/train\")\n",
        "register_coco_instances(\"my_dataset_test\", {}, \"/content/test/_annotations.coco.json\", \"/content/test\")\n"
      ]
    },
    {
      "cell_type": "code",
      "execution_count": null,
      "metadata": {
        "id": "BdTAusKE9zUQ"
      },
      "outputs": [],
      "source": [
        "my_dataset_train_metadata = MetadataCatalog.get(\"my_dataset_train\")\n",
        "dataset_dicts = DatasetCatalog.get(\"my_dataset_train\")\n",
        "\n",
        "import random\n",
        "from detectron2.utils.visualizer import Visualizer\n",
        "\n",
        "for d in random.sample(dataset_dicts, 3):\n",
        "    img = cv2.imread(d[\"file_name\"])\n",
        "    visualizer = Visualizer(img[:, :, ::-1], metadata=my_dataset_train_metadata, scale=0.5)\n",
        "    vis = visualizer.draw_dataset_dict(d)\n",
        "    cv2_imshow(vis.get_image()[:, :, ::-1])"
      ]
    },
    {
      "cell_type": "code",
      "execution_count": null,
      "metadata": {
        "id": "TPc8yVBVh52F"
      },
      "outputs": [],
      "source": [
        "from detectron2.engine import DefaultTrainer\n",
        "\n",
        "cfg = get_cfg()\n",
        "cfg.merge_from_file(model_zoo.get_config_file(\"COCO-Detection/faster_rcnn_R_50_FPN_3x.yaml\"))\n",
        "cfg.DATASETS.TRAIN = (\"my_dataset_train\",)\n",
        "cfg.DATASETS.TEST = ()\n",
        "cfg.DATALOADER.NUM_WORKERS = 2\n",
        "cfg.MODEL.WEIGHTS = model_zoo.get_checkpoint_url(\"COCO-Detection/faster_rcnn_R_50_FPN_3x.yaml\")  # Let training initialize from model zoo\n",
        "cfg.SOLVER.IMS_PER_BATCH = 2\n",
        "cfg.SOLVER.BASE_LR = 0.0025  # pick a good LR\n",
        "cfg.SOLVER.MAX_ITER = 500   # 300 iterations seems good enough for this toy dataset; you will need to train longer for a practical dataset\n",
        "cfg.MODEL.ROI_HEADS.BATCH_SIZE_PER_IMAGE = 128   # faster, and good enough for this toy dataset (default: 512)\n",
        "cfg.MODEL.ROI_HEADS.NUM_CLASSES = 6  # (see https://detectron2.readthedocs.io/tutorials/datasets.html#update-the-config-for-new-datasets)\n",
        "# NOTE: this config means the number of classes, but a few popular unofficial tutorials incorrect uses num_classes+1 here.\n",
        "\n",
        "os.makedirs(cfg.OUTPUT_DIR, exist_ok=True)\n",
        "trainer = DefaultTrainer(cfg)\n",
        "trainer.resume_or_load(resume=True)\n",
        "trainer.train()"
      ]
    },
    {
      "cell_type": "code",
      "execution_count": null,
      "metadata": {
        "id": "oca9rEQKif1h"
      },
      "outputs": [],
      "source": [
        "# Look at training curves in tensorboard:\n",
        "%load_ext tensorboard\n",
        "%tensorboard --logdir output"
      ]
    },
    {
      "cell_type": "code",
      "execution_count": null,
      "metadata": {
        "id": "HBUdNVhn1rHh"
      },
      "outputs": [],
      "source": [
        "cfg.MODEL.WEIGHTS = os.path.join(cfg.OUTPUT_DIR, \"model_final.pth\")\n",
        "cfg.MODEL.ROI_HEADS.SCORE_THRESH_TEST = 0.5   # set the testing threshold for this model\n",
        "cfg.DATASETS.TEST = (\"my_dataset_test\", )\n",
        "predictor = DefaultPredictor(cfg)"
      ]
    },
    {
      "cell_type": "code",
      "execution_count": null,
      "metadata": {
        "id": "dF7Ag3LTwTcq"
      },
      "outputs": [],
      "source": [
        "test_metadata = MetadataCatalog.get(\"my_dataset_test\")"
      ]
    },
    {
      "cell_type": "code",
      "execution_count": null,
      "metadata": {
        "id": "WiJ0Ylc_XAUa"
      },
      "outputs": [],
      "source": [
        "from detectron2.utils.visualizer import ColorMode\n",
        "import glob\n",
        "\n",
        "for imageName in glob.glob('/content/test/*jpg'):\n",
        "  im = cv2.imread(imageName)\n",
        "  outputs = predictor(im)\n",
        "  v = Visualizer(im[:, :, ::-1],\n",
        "                metadata=test_metadata,\n",
        "                scale=0.8\n",
        "                 )\n",
        "  out = v.draw_instance_predictions(outputs[\"instances\"].to(\"cpu\"))\n",
        "  cv2_imshow(out.get_image()[:, :, ::-1])\n"
      ]
    },
    {
      "cell_type": "code",
      "execution_count": null,
      "metadata": {
        "id": "4k4vLIIsw4gp"
      },
      "outputs": [],
      "source": [
        "from detectron2.evaluation import COCOEvaluator, inference_on_dataset\n",
        "from detectron2.data import build_detection_test_loader\n",
        "evaluator = COCOEvaluator(\"my_dataset_test\", output_dir= \"./output\")\n",
        "val_loader = build_detection_test_loader(cfg, \"my_dataset_test\")\n",
        "print(inference_on_dataset(predictor.model, val_loader, evaluator))"
      ]
    },
    {
      "cell_type": "code",
      "execution_count": null,
      "metadata": {
        "id": "Vy3qXI_Zw4ci"
      },
      "outputs": [],
      "source": [
        "f = open('config.yml', 'w')\n",
        "f.write(cfg.dump())\n",
        "f.close()"
      ]
    }
  ],
  "metadata": {
    "accelerator": "GPU",
    "colab": {
      "gpuType": "T4",
      "provenance": []
    },
    "kernelspec": {
      "display_name": "Python 3.11.4 64-bit",
      "language": "python",
      "name": "python3"
    },
    "language_info": {
      "codemirror_mode": {
        "name": "ipython",
        "version": 3
      },
      "file_extension": ".py",
      "mimetype": "text/x-python",
      "name": "python",
      "nbconvert_exporter": "python",
      "pygments_lexer": "ipython3",
      "version": "3.11.4"
    },
    "vscode": {
      "interpreter": {
        "hash": "aee8b7b246df8f9039afb4144a1f6fd8d2ca17a180786b69acc140d282b71a49"
      }
    }
  },
  "nbformat": 4,
  "nbformat_minor": 0
}
